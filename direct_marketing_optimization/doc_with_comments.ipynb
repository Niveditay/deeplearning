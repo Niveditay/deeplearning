{
 "cells": [
  {
   "cell_type": "markdown",
   "metadata": {},
   "source": [
    "# Direct Marketing Optimization Case Report"
   ]
  },
  {
   "cell_type": "markdown",
   "metadata": {},
   "source": [
    "Steps:\n",
    "1. Created an analytical dataset (both training and targeting sets)\n",
    "2. Three models have been developed for (consumer loan, credit card, mutual fund) using training set\n",
    "3. Optimized targeting clients with the direct marketing offer to maximize the revenue by listing the top 100  clients to be contacted for offer"
   ]
  },
  {
   "cell_type": "code",
   "execution_count": 1,
   "metadata": {
    "collapsed": false
   },
   "outputs": [
    {
     "name": "stderr",
     "output_type": "stream",
     "text": [
      "/opt/miniconda3/lib/python3.5/site-packages/sklearn/cross_validation.py:44: DeprecationWarning: This module was deprecated in version 0.18 in favor of the model_selection module into which all the refactored classes and functions are moved. Also note that the interface of the new CV iterators are different from that of this module. This module will be removed in 0.20.\n",
      "  \"This module will be removed in 0.20.\", DeprecationWarning)\n"
     ]
    }
   ],
   "source": [
    "import pandas as pd\n",
    "from sklearn import preprocessing, cross_validation, svm\n",
    "from sklearn.linear_model import LinearRegression, LogisticRegression\n",
    "from sklearn.feature_selection import chi2, SelectKBest, RFE\n",
    "from sklearn import metrics\n",
    "import numpy as np"
   ]
  },
  {
   "cell_type": "markdown",
   "metadata": {},
   "source": [
    "## Data Preprocessing\n",
    "\n",
    "Creating dataset by extracting all the required information required for the task given. The steps including Data Preprocessing,Data cleansing and preparation will be done in this step. Transforming data into meaningful arrays will improve the model performance and help understand the insights of the data."
   ]
  },
  {
   "cell_type": "code",
   "execution_count": 2,
   "metadata": {
    "collapsed": false
   },
   "outputs": [
    {
     "name": "stderr",
     "output_type": "stream",
     "text": [
      "/opt/miniconda3/lib/python3.5/site-packages/ipykernel/__main__.py:11: FutureWarning: by argument to sort_index is deprecated, pls use .sort_values(by=...)\n"
     ]
    }
   ],
   "source": [
    "\n",
    "#reading the customer data file into the pandas\n",
    "data = pd.ExcelFile(\"./data.xlsx\")\n",
    "#parse all the datasheets \n",
    "page2=data.parse(sheetname=1)\n",
    "page3=data.parse(sheetname=2)\n",
    "page4=data.parse(sheetname=3)\n",
    "\n",
    "#list columns of page2\n",
    "column_name=list(page2.columns)\n",
    "page2_sorted=page2.sort_index(by=column_name, ascending=[True,False,False,False])\n",
    "page2_numeric=page2_sorted.replace(to_replace=dict(F=0, M=1, NAN=2), inplace=False)\n",
    "#combining data page 2 and 3\n",
    "page2plus3=page3\n",
    "page2plus3[page2_sorted.columns[1:4]]=page2_sorted[page2_sorted.columns[1:4]]\n",
    "page4_sorted=page4.sort_values(by=list(page4.columns), ascending=list(page4.columns=='Clients'))\n",
    "page3plus4 = pd.merge(page2plus3, page4_sorted, how='inner', on=['Client'])\n",
    "\n",
    "f = pd.DataFrame(index=range(28), columns=list(page4.columns) )\n",
    "\n",
    "nodata_client =[]\n",
    "for client in range(1,1615):\n",
    "    if client not in list(page4_sorted.Client):\n",
    "        nodata_client.append(client)\n",
    "f.Client=nodata_client\n",
    "page4cols=list(page4.columns)\n",
    "page4extended= page4\n",
    "page4extended =page4extended.append(f)\n",
    "\n",
    "page4extended_sorted=page4extended.sort_values(by=page4cols, ascending=list(page4.columns=='Client') )\n",
    "page4extended_sorted.head(50)\n",
    "page2plus34 = pd.merge(page2plus3, page4extended_sorted, how='inner', on=['Client'])\n",
    "\n",
    "page5=data.parse(sheetname=4)\n",
    "\n",
    "        \n",
    "\n",
    "nodata_client_page5 =[]\n",
    "for client in range(1,1615):\n",
    "    if client not in list(page5.Client):\n",
    "        nodata_client_page5.append(client)\n",
    "\n",
    "\n",
    "\n",
    "f5 = pd.DataFrame(index=range(len(nodata_client_page5)), columns=['Client', 'Sale_MF', 'Sale_CC', 'Sale_CL', 'Revenue_MF', 'Revenue_CC',\n",
    "       'Revenue_CL'])\n",
    "\n",
    "f5.Client=nodata_client_page5\n",
    "\n",
    "page5extended= page5\n",
    "page5extended =page5extended.append(f5)\n",
    "\n",
    "page5extended_sorted=page5extended.sort_values(by=list(page5.columns), ascending= list(page5.columns == 'Client'))\n",
    "page5extended_sorted.head(50)\n",
    "page2plus345 = pd.merge(page2plus34, page5extended_sorted, how='inner', on=['Client'])\n",
    "page2plus345\n",
    "\n",
    "#sorting presence of clients by page \n",
    "page2plus345['Page3client']=[i in list(page3.Client) for i in list(page2plus345.Client)]\n",
    "page2plus345['Page4client']=[i in list(page4.Client) for i in list(page2plus345.Client)]\n",
    "page2plus345['Page5client']=[i in list(page5.Client) for i in list(page2plus345.Client)]\n",
    "\n",
    "#final dataset\n",
    "#sum(list(page2plus345.Page5client))"
   ]
  },
  {
   "cell_type": "code",
   "execution_count": 3,
   "metadata": {
    "collapsed": true
   },
   "outputs": [],
   "source": [
    "# developing training set : Fetching information related to the CLients present on the datasheet 5\n",
    "list(page4.columns)\n",
    "trainingset=page2plus345.loc[(page2plus345.Page5client==True),['Client', 'Count_CA', 'Count_SA', 'Count_MF', 'Count_OVD', 'Count_CC',\n",
    "       'Count_CL', 'ActBal_CA', 'ActBal_SA', 'ActBal_MF', 'ActBal_OVD',\n",
    "       'ActBal_CC', 'ActBal_CL', 'Sex', 'Age', 'Tenure', 'VolumeCred',\n",
    "       'VolumeCred_CA', 'TransactionsCred', 'TransactionsCred_CA', 'VolumeDeb',\n",
    "       'VolumeDeb_CA', 'VolumeDebCash_Card', 'VolumeDebCashless_Card',\n",
    "       'VolumeDeb_PaymentOrder', 'TransactionsDeb', 'TransactionsDeb_CA',\n",
    "       'TransactionsDebCash_Card', 'TransactionsDebCashless_Card',\n",
    "       'TransactionsDeb_PaymentOrder', 'Sale_MF', 'Sale_CC', 'Sale_CL',\n",
    "       'Revenue_MF', 'Revenue_CC', 'Revenue_CL', 'Page3client', 'Page4client',\n",
    "       'Page5client']]\n",
    "\n",
    "predictingset =page2plus345.loc[(page2plus345.Page5client==False),['Client', 'Count_CA', 'Count_SA', 'Count_MF', 'Count_OVD', 'Count_CC',\n",
    "       'Count_CL', 'ActBal_CA', 'ActBal_SA', 'ActBal_MF', 'ActBal_OVD',\n",
    "       'ActBal_CC', 'ActBal_CL', 'Sex', 'Age', 'Tenure', 'VolumeCred',\n",
    "       'VolumeCred_CA', 'TransactionsCred', 'TransactionsCred_CA', 'VolumeDeb',\n",
    "       'VolumeDeb_CA', 'VolumeDebCash_Card', 'VolumeDebCashless_Card',\n",
    "       'VolumeDeb_PaymentOrder', 'TransactionsDeb', 'TransactionsDeb_CA',\n",
    "       'TransactionsDebCash_Card', 'TransactionsDebCashless_Card',\n",
    "       'TransactionsDeb_PaymentOrder', 'Sale_MF', 'Sale_CC', 'Sale_CL',\n",
    "       'Revenue_MF', 'Revenue_CC', 'Revenue_CL', 'Page3client', 'Page4client',\n",
    "       'Page5client']]"
   ]
  },
  {
   "cell_type": "markdown",
   "metadata": {},
   "source": [
    "#### Logistic regression model \n",
    "The model is implemented for the task of predicting customers most likely to buy credit card mutual fund and loan. Here, the features are the descriptive attributes, and the label is what we are attempting to predict or forecast. As per standard with machine learning in code to define X (capital x), as the features, and y (lowercase y) as the label that corresponds to the features."
   ]
  },
  {
   "cell_type": "code",
   "execution_count": 4,
   "metadata": {
    "collapsed": false
   },
   "outputs": [],
   "source": [
    "#  list of feature names to be evaluated for analysis \n",
    "feature_cols=['ActBal_CA', 'ActBal_SA','Age','Count_CA', 'Count_SA', 'Count_MF', 'Count_OVD', 'Count_CC',\n",
    "       'Count_CL', 'ActBal_CA', 'ActBal_SA', 'ActBal_MF', 'ActBal_OVD',\n",
    "       'ActBal_CC', 'ActBal_CL', 'Age', 'Tenure', 'VolumeCred',\n",
    "       'VolumeCred_CA', 'TransactionsCred', 'TransactionsCred_CA', 'VolumeDeb',\n",
    "       'VolumeDeb_CA', 'VolumeDebCash_Card', 'VolumeDebCashless_Card',\n",
    "       'VolumeDeb_PaymentOrder', 'TransactionsDeb', 'TransactionsDeb_CA',\n",
    "       'TransactionsDebCash_Card', 'TransactionsDebCashless_Card',\n",
    "       'TransactionsDeb_PaymentOrder', 'Sale_MF',  'Sale_CL',\n",
    "       'Revenue_MF', 'Revenue_CC', 'Revenue_CL']\n",
    "data =trainingset.loc[:,['Client', 'Count_CA', 'Count_SA', 'Count_MF', 'Count_OVD', 'Count_CC',\n",
    "       'Count_CL', 'ActBal_CA', 'ActBal_SA', 'ActBal_MF', 'ActBal_OVD',\n",
    "       'ActBal_CC', 'ActBal_CL', 'Age', 'Tenure', 'VolumeCred',\n",
    "       'VolumeCred_CA', 'TransactionsCred', 'TransactionsCred_CA', 'VolumeDeb',\n",
    "       'VolumeDeb_CA', 'VolumeDebCash_Card', 'VolumeDebCashless_Card',\n",
    "       'VolumeDeb_PaymentOrder', 'TransactionsDeb', 'TransactionsDeb_CA',\n",
    "       'TransactionsDebCash_Card', 'TransactionsDebCashless_Card',\n",
    "       'TransactionsDeb_PaymentOrder', 'Sale_MF', 'Sale_CC', 'Sale_CL',\n",
    "       'Revenue_MF', 'Revenue_CC', 'Revenue_CL', 'Page3client', 'Page4client',\n",
    "       'Page5client']]\n",
    "\n",
    "# use the list to select a subset of the original DataFrame\n",
    "data=data.fillna(0)\n",
    "X = data[feature_cols]\n",
    "\n",
    "# checking the type and shape of X\n",
    "#print(type(X))\n",
    "#print(X.shape)\n",
    "# selecting a Series from the DataFrame for labels\n",
    "y=data['Sale_CC']\n"
   ]
  },
  {
   "cell_type": "markdown",
   "metadata": {},
   "source": [
    "Below is the training and testing phase. The 75% of data is used to train the classifier. Then the remaining 25% is used to test the classifier. For accuracy and reliability, the best way is using the build in cross_validation."
   ]
  },
  {
   "cell_type": "code",
   "execution_count": 5,
   "metadata": {
    "collapsed": false
   },
   "outputs": [
    {
     "name": "stdout",
     "output_type": "stream",
     "text": [
      "0.942386831276\n"
     ]
    }
   ],
   "source": [
    "from sklearn.cross_validation import train_test_split\n",
    "X_train, X_test, y_train, y_test = train_test_split(X, y, random_state=1)\n",
    "# instantiate a model\n",
    "clf=LogisticRegression(C=1e5)\n",
    "#clf=LinearRegression(fit_intercept=True, normalize=True)\n",
    "# fit the model to the training data (learn the coefficients)\n",
    "clf.fit(X_train, y_train)\n",
    "#Classification accuracy: percentage of correct predictions\n",
    "accuracy=clf.score(X_test,y_test)\n",
    "#print(clf.intercept_)\n",
    "print(accuracy)\n",
    "y_pred = clf.predict(X_test)\n"
   ]
  },
  {
   "cell_type": "code",
   "execution_count": 6,
   "metadata": {
    "collapsed": false
   },
   "outputs": [],
   "source": [
    "#predicting set for credit card problem.\n",
    "cc_target=page2plus345[page2plus345.Page5client !=1]\n",
    "#predicting set for mutual  fund \n",
    "MF_target= page2plus345[page2plus345.Page5client != 1]\n",
    "#predicting set for consumer loan\n",
    "CL_target= page2plus345[page2plus345.Page5client != 1]"
   ]
  },
  {
   "cell_type": "markdown",
   "metadata": {},
   "source": [
    "## Model for Credit Card \n"
   ]
  },
  {
   "cell_type": "code",
   "execution_count": 7,
   "metadata": {
    "collapsed": false
   },
   "outputs": [
    {
     "name": "stdout",
     "output_type": "stream",
     "text": [
      "credit card model accuracy :  0.744855967078\n"
     ]
    }
   ],
   "source": [
    "\n",
    "#feature_cols = ['TransactionsDebCashless_Card','ActBal_CA','ActBal_SA','ActBal_MF','Age']\n",
    "feature_cols=['Count_CA', 'Count_SA', 'Count_MF', 'Count_OVD', 'Count_CC',\n",
    "       'Count_CL', 'ActBal_CA', 'ActBal_SA', 'ActBal_MF', 'ActBal_OVD',\n",
    "       'ActBal_CC', 'ActBal_CL', 'Age', 'Tenure', 'VolumeCred',\n",
    "       'VolumeCred_CA', 'TransactionsCred', 'TransactionsCred_CA', 'VolumeDeb',\n",
    "       'VolumeDeb_CA', 'VolumeDebCash_Card', 'VolumeDebCashless_Card',\n",
    "       'VolumeDeb_PaymentOrder', 'TransactionsDeb', 'TransactionsDeb_CA',\n",
    "       'TransactionsDebCash_Card', 'TransactionsDebCashless_Card',\n",
    "       'TransactionsDeb_PaymentOrder', 'Revenue_MF', 'Revenue_CL',]\n",
    "\n",
    "X = data[feature_cols]\n",
    "# select a Series from the DataFrame\n",
    "data.fillna(0,inplace=True)\n",
    "#sale_cc=training_set.Sale_CC.fillna(0)\n",
    "y=trainingset.Sale_CC.fillna(0)\n",
    "# split into training and testing sets\n",
    "X_train, X_test, y_train, y_test = train_test_split(X, y, random_state=1)\n",
    "\n",
    "# fit the model to the training data (learn the coefficients)\n",
    "clf.fit(X_train, y_train)\n",
    "\n",
    "# make predictions on the testing set\n",
    "y_pred = clf.predict(X_test)\n",
    "\n",
    "accuracy=clf.score(X_test,y_test)\n",
    "print('credit card model accuracy : ',accuracy)\n",
    "\n",
    "X_predict=cc_target[feature_cols].fillna(0)\n",
    "y_predict = clf.predict(X_predict)\n",
    "\n",
    "CC=list(cc_target[y_predict==1].Client)\n",
    "#print(len(CC))\n"
   ]
  },
  {
   "cell_type": "markdown",
   "metadata": {},
   "source": [
    "### Clients have higher propensity to buy Credit Card"
   ]
  },
  {
   "cell_type": "code",
   "execution_count": 8,
   "metadata": {
    "collapsed": false
   },
   "outputs": [
    {
     "name": "stdout",
     "output_type": "stream",
     "text": [
      "Customers to be targetted for the credit card offer [5, 19, 145, 151, 153, 161, 197, 206, 352, 359, 373, 382, 389, 532, 535, 587, 592, 633, 851, 886, 931, 951, 978, 996, 1076, 1077, 1241, 1249, 1278, 1289, 1349, 1365, 1410, 1414, 1419, 1455, 1487, 1491, 1588]\n"
     ]
    }
   ],
   "source": [
    "print('Customers to be targetted for the credit card offer', CC )"
   ]
  },
  {
   "cell_type": "markdown",
   "metadata": {},
   "source": [
    "## Model for Mutual Fund\n"
   ]
  },
  {
   "cell_type": "code",
   "execution_count": 9,
   "metadata": {
    "collapsed": false
   },
   "outputs": [
    {
     "name": "stdout",
     "output_type": "stream",
     "text": [
      "Mutual fund model accuracy :  0.864197530864\n"
     ]
    }
   ],
   "source": [
    "\n",
    "#feature_cols = ['TransactionsDebCashless_Card','ActBal_CA','ActBal_SA','ActBal_MF','Age']\n",
    "feature_cols=['Count_CA', 'Count_SA', 'Count_MF', 'Count_OVD', 'Count_CC',\n",
    "       'Count_CL', 'ActBal_CA', 'ActBal_SA', 'ActBal_MF', 'ActBal_OVD',\n",
    "       'ActBal_CC', 'ActBal_CL', 'Age', 'Tenure', 'VolumeCred',\n",
    "       'VolumeCred_CA', 'TransactionsCred', 'TransactionsCred_CA', 'VolumeDeb',\n",
    "       'VolumeDeb_CA', 'VolumeDebCash_Card', 'VolumeDebCashless_Card',\n",
    "       'VolumeDeb_PaymentOrder', 'TransactionsDeb', 'TransactionsDeb_CA',\n",
    "       'TransactionsDebCash_Card', 'TransactionsDebCashless_Card',\n",
    "       'TransactionsDeb_PaymentOrder', 'Sale_MF', 'Sale_CC', 'Sale_CL', 'Revenue_CC',\n",
    "              'Revenue_CL']\n",
    "\n",
    "#data=selected_trainingset2\n",
    "X = data[feature_cols]\n",
    "# select a Series from the DataFrame\n",
    "data.fillna(0,inplace=True)\n",
    "#sale_cc=training_set.Sale_CC.fillna(0)\n",
    "y=trainingset.Sale_MF.fillna(0)\n",
    "# split into training and testing sets\n",
    "X_train, X_test, y_train, y_test = train_test_split(X, y, random_state=1)\n",
    "\n",
    "# fit the model to the training data (learn the coefficients)\n",
    "clf.fit(X_train, y_train)\n",
    "\n",
    "# make predictions on the testing set\n",
    "y_pred = clf.predict(X_test)\n",
    "\n",
    "accuracy=clf.score(X_test,y_test)\n",
    "print('Mutual fund model accuracy : ',accuracy)\n",
    "\n",
    "X_predict=MF_target[feature_cols].fillna(0)\n",
    "y_predict = clf.predict(X_predict)\n",
    "\n",
    "MF= list(MF_target[y_predict==1].Client)\n",
    "#print(len(MF))\n",
    "#print('Customers to be targetted for the Mutualfund offer', MF)"
   ]
  },
  {
   "cell_type": "markdown",
   "metadata": {},
   "source": [
    "### Clients have higher propensity to buy Mutual Fund\n"
   ]
  },
  {
   "cell_type": "code",
   "execution_count": 10,
   "metadata": {
    "collapsed": false
   },
   "outputs": [
    {
     "name": "stdout",
     "output_type": "stream",
     "text": [
      "Customers to be targetted for the Mutualfund offer [30, 39, 64, 196, 506, 583, 766, 785, 878, 940, 1007, 1008, 1119, 1226, 1416, 1435, 1480, 1508, 1516, 1569]\n"
     ]
    }
   ],
   "source": [
    "print('Customers to be targetted for the Mutualfund offer', MF)"
   ]
  },
  {
   "cell_type": "markdown",
   "metadata": {},
   "source": [
    "## Model for consumer loan"
   ]
  },
  {
   "cell_type": "code",
   "execution_count": 11,
   "metadata": {
    "collapsed": false
   },
   "outputs": [
    {
     "name": "stdout",
     "output_type": "stream",
     "text": [
      "Consumer Loan model accuracy :  0.711934156379\n"
     ]
    }
   ],
   "source": [
    "feature_cols=['Count_CA', 'Count_SA', 'Count_MF', 'Count_OVD', 'Count_CC',\n",
    "       'Count_CL', 'ActBal_CA', 'ActBal_SA', 'ActBal_MF', 'ActBal_OVD',\n",
    "       'ActBal_MF', 'ActBal_CL', 'Age', 'Tenure', 'VolumeCred',\n",
    "       'VolumeCred_CA', 'TransactionsCred', 'TransactionsCred_CA', 'VolumeDeb',\n",
    "       'VolumeDeb_CA', 'VolumeDebCash_Card', 'VolumeDebCashless_Card',\n",
    "       'VolumeDeb_PaymentOrder', 'TransactionsDeb', 'TransactionsDeb_CA',\n",
    "       'TransactionsDebCash_Card', 'TransactionsDebCashless_Card',\n",
    "       'TransactionsDeb_PaymentOrder', 'Revenue_CC',\n",
    "              'Revenue_MF']\n",
    "\n",
    "#data=selected_trainingset2\n",
    "X = data[feature_cols]\n",
    "# select a Series from the DataFrame\n",
    "data.fillna(0,inplace=True)\n",
    "#sale_cc=training_set.Sale_CC.fillna(0)\n",
    "y=trainingset.Sale_CL.fillna(0)\n",
    "# split into training and testing sets\n",
    "X_train, X_test, y_train, y_test = train_test_split(X, y, random_state=1)\n",
    "\n",
    "\n",
    "# fit the model to the training data (learn the coefficients)\n",
    "clf.fit(X_train, y_train)\n",
    "\n",
    "\n",
    "# make predictions on the testing set\n",
    "y_pred = clf.predict(X_test)\n",
    "accuracy=clf.score(X_test,y_test)\n",
    "print('Consumer Loan model accuracy : ', accuracy)\n",
    "\n",
    "X_predict=CL_target[feature_cols].fillna(0)\n",
    "y_predict = clf.predict(X_predict)\n",
    "\n",
    "CL=list(CL_target[y_predict==1].Client)\n",
    "\n",
    "\n",
    "#print(len(CL))"
   ]
  },
  {
   "cell_type": "markdown",
   "metadata": {},
   "source": [
    "### Clients have higher propensity to buy Consumer Loan"
   ]
  },
  {
   "cell_type": "code",
   "execution_count": 12,
   "metadata": {
    "collapsed": false
   },
   "outputs": [
    {
     "name": "stdout",
     "output_type": "stream",
     "text": [
      "Customers to be targeted for the loan offer [5, 89, 153, 161, 164, 217, 239, 314, 353, 401, 496, 532, 543, 1051, 1077, 1200, 1218, 1237, 1289, 1365, 1443, 1455, 1569]\n"
     ]
    }
   ],
   "source": [
    "print('Customers to be targeted for the loan offer', CL)"
   ]
  },
  {
   "cell_type": "markdown",
   "metadata": {},
   "source": [
    "## Revenues forcasting for Credit Card"
   ]
  },
  {
   "cell_type": "code",
   "execution_count": 15,
   "metadata": {
    "collapsed": false
   },
   "outputs": [
    {
     "name": "stdout",
     "output_type": "stream",
     "text": [
      "credit card revenue model accuracy :  0.716049382716\n",
      "List of (Client id, revenue forecasted) tuples: [(19, 42), (153, 14), (161, 2), (352, 42), (359, 14), (373, 15), (382, 15), (532, 7), (535, 15), (587, 15), (633, 3), (851, 6), (886, 1), (951, 5), (1076, 15), (1077, 8), (1289, 13), (1349, 15), (1410, 4), (1414, 18), (1455, 25)]\n",
      "sum of revenue CC: 294\n"
     ]
    },
    {
     "data": {
      "text/plain": [
       "array([  0,   0,   0,   0,  14,   0,   0,   0,   0,  76,  42,   0,   0,\n",
       "         0,   0,   0,   0,  10,   0,   0,   0,  15,   0,   0,   0,   0,\n",
       "        76,   0,   0,   0,   9,   0,   0,   0,   0,   0,   0,   0,   0,\n",
       "         0,   0,   0,   8,   0,   0,   0,   0,  10,   0,   0,  14,   0,\n",
       "         0,   0,   0,   0,   0,   0,   0,   0,   0,   0,   0,  14,   0,\n",
       "         0,   2,   0,   0,   0,   0,   0,   0,   0,   0,   0,   0,   0,\n",
       "         0,  37,   0,   0,   0,   0,   0,  12,  36, 102,   0,  36,   0,\n",
       "         0,   0,  36,   0,   0,   0,   0,   0,   0,   0,   0,   0,   4,\n",
       "         0,   0,   0,   0,  14,   0,   0,  15,   0,   0,   0,   0,   0,\n",
       "         0,   0,   0,   0,  15,   0,  36,  76,   0,   0,   0,   0,   0,\n",
       "        39,   0,   0,   0,  28,   0,  15,   0,   0,   0, 102,   0,  42,\n",
       "         0,   0,  42,   0,  42,   0,   0,   0,  15,   0,  39,  14,   0,\n",
       "         0,   0,   0,   0,  15,   0,   0,  42,  15,   0,   0,   0,   0,\n",
       "         0,   0,   0,  76,   0,   0,   0,   0,   0,   0,   0,   0,   0,\n",
       "         0,  39,   0,   0,   0,   0,   0,   0,   0,   0,   0,   0,   0,\n",
       "         0,   0,   0,   0,   0,   0,   0,   0,   0,   0,   0,   0,   0,\n",
       "         0,   0,   0,  42,   0,   0,   0,   0,   0,   9,   0,   0,   0,\n",
       "         0,   0,   7,  15,   0,   0,   0,  39,   0,   0,   0,   0,   0,\n",
       "         0,   0,   0,   0, 102,   0,  39,   0,   0,  15,   0,   0,   0,\n",
       "        15,   0,   0,   0,  10,   0,   0,   0,   0,   3,  12,   0,   0,\n",
       "         0,   0,   0,   0,   0,   0,   0,   0,   0,   0,   0,   0,   0,\n",
       "         0,   0,   0,   0,   0,   0,   0,   0,   0,   0,   0,   0,   0,\n",
       "        15,   0,   0,  39,   0,  42,   0,   0,   0,   0,   0,  10,   0,\n",
       "         0,   0,   0,   0,   0,   0,   9,   0,   0,  10,   0,   0,   0,\n",
       "         0,   0,   0,   0,   0,   0,   0,   0,   0,   0,   0,   0,   0,\n",
       "         0,   0,   9,   0,   0,   0,   0,   0,   0,   0,   0,   0,   0,\n",
       "         0,   0,   0,   0,   0,   0,   0,   0,   6,   0,   0,   0,  15,\n",
       "         0,   0,   0,   0,   0,   0,   0,   1,   0,   0,   0,   0,   0,\n",
       "         0,   0,   0,   0,   0,   0,   0,   0,   0,   0,   0,   0,   0,\n",
       "         0,   0,   0,   0,   0,   5,   0,   0,   0,   0,   0,   0,   0,\n",
       "         0,   0,   0,   0,   0,   0,   0,   0,  42,   0,   0,   0,   0,\n",
       "         0,  10,  42,   0,   0,   0,   0,   0,   0,   0,   0,   0,   0,\n",
       "         0,   0,   0,  37,   0,   0,   0,   0,   0,   0,   0,  76,   0,\n",
       "        15,   8,   0,   0,   0,   0,   0,   0,   0,  10,   0,   0,   0,\n",
       "         0,   0,   0,   0,   0,   0,   0,   0,   0,   0,   0,   0,   0,\n",
       "         0,   0,   0,   0,   8,   0,   0,   0,   0,   0,   0,   0,   0,\n",
       "         0,   0,   0,   0,   0,   0,   0,   0,   0,   0,   0,   0,   0,\n",
       "         0,   0,   0,   0,   0,   0,   0,   0,  36,   0,   0,   0,   0,\n",
       "         0,   0,  39,   0,  37,   0,   0,   0,   0,   0,   0,   0,   0,\n",
       "         0,   0,   0,   0,   0,   0,   0,   0,   0,   0,  10,  13,   0,\n",
       "         0,   0,   0,   0,   0,   0,   0,   0,   0,  16,   0,   0,   0,\n",
       "         0,   0,   0,   0,   0,  15,   0,   0,   0,   0,   0,   0,   0,\n",
       "         0,   0,   0,   0,   0,   0,   0,  14,   0,   0,   0,   0,  39,\n",
       "         0,   0,   4,  18,   0,   0,   0,   0,   0,   0,   0,   0,   0,\n",
       "        76,   0,   0,   0,   0,   0,   0,   0,   0,   0,  25,   0,   0,\n",
       "         0,   0,   0,   0,   0,   0,   0,   0,   0,   0,   0,   0,   0,\n",
       "         0,  76,   0,   9,   0, 102,   0,   0,  36,   0,  25,   0,   0,\n",
       "        76,   0,   0,   0,   0,   0,   0,   0,   0,   0,   0,   0,   0,\n",
       "         0,   0,   0,   0,   0,   0,   0,   0,   0,   0,   0,   0,   0,\n",
       "         0,   0,   0,   0,   0,   0,   0,   0,   0])"
      ]
     },
     "execution_count": 15,
     "metadata": {},
     "output_type": "execute_result"
    }
   ],
   "source": [
    "feature_cols=[ 'Count_CA', 'Count_SA', 'Count_MF', 'Count_OVD', 'Count_CC',\n",
    "       'Count_CL', 'ActBal_CA', 'ActBal_SA', 'ActBal_MF', 'ActBal_OVD',\n",
    "       'ActBal_CC', 'ActBal_CL', 'Age', 'Tenure', 'VolumeCred',\n",
    "       'VolumeCred_CA', 'TransactionsCred', 'TransactionsCred_CA', 'VolumeDeb',\n",
    "       'VolumeDeb_CA', 'VolumeDebCash_Card', 'VolumeDebCashless_Card',\n",
    "       'VolumeDeb_PaymentOrder', 'TransactionsDeb', 'TransactionsDeb_CA',\n",
    "       'TransactionsDebCash_Card', 'TransactionsDebCashless_Card',\n",
    "       'TransactionsDeb_PaymentOrder', 'Revenue_MF','Revenue_CL']\n",
    "\n",
    "X = data[feature_cols]\n",
    "# select a Series from the DataFrame\n",
    "data.fillna(0,inplace=True)\n",
    "y=(trainingset.Revenue_CC.fillna(0)).apply(np.int64)\n",
    "# split into training and testing sets\n",
    "X_train, X_test, y_train, y_test = train_test_split(X, y, random_state=1)\n",
    "\n",
    "# fit the model to the training data (learn the coefficients)\n",
    "clf.fit(X_train, y_train)\n",
    "\n",
    "accuracy=clf.score(X_test,y_test)\n",
    "print('credit card revenue model accuracy : ', accuracy)\n",
    "\n",
    "# make predictions on the testing set\n",
    "#y_pred = clf.predict(X_test)\n",
    "      \n",
    "X_predict=cc_target[feature_cols].fillna(0)\n",
    "y_predict = clf.predict(X_predict)\n",
    "\n",
    "#print('number of customer with revenue', sum(y!=0))\n",
    "\n",
    "CC_revenue=list(cc_target[y_predict!=0].Client)\n",
    "#print('Total expected revenue from predicted credit card customers:',sum(y_predict))\n",
    "#print('targeted customers :', CC_revenue)\n",
    "CC_client_pred =y_predict[y_predict!=0]\n",
    "CC_zip=list(zip(CC_revenue,CC_client_pred))\n",
    "\n",
    "#Revenue_forcast = pd.DataFrame(columns=columns,index=index)\n",
    "#print('Customer and their targeted revenue:',sorted(CC_zip,key=lambda x: x[1],reverse=True))\n",
    "\n",
    "# Create another list of those who are suppose to be in the predicted set of target CC customers\n",
    "sum_CC_revenue =0\n",
    "sale_CC_revenue_list =[]\n",
    "for client in list(CC_revenue):\n",
    "    if client in list(CC):\n",
    "        sale_CC_revenue_list.append((client,CC_client_pred[CC_revenue.index(client)]))\n",
    "        sum_CC_revenue = sum_CC_revenue + CC_client_pred[CC_revenue.index(client)]\n",
    "\n",
    "\n",
    "print ('List of (Client id, revenue forecasted) tuples:', sale_CC_revenue_list)\n",
    "print ('sum of revenue CC:', sum_CC_revenue)\n",
    "y_predict"
   ]
  },
  {
   "cell_type": "markdown",
   "metadata": {},
   "source": [
    "## Revenue forcasting for Mutual funds"
   ]
  },
  {
   "cell_type": "code",
   "execution_count": 567,
   "metadata": {
    "collapsed": false
   },
   "outputs": [
    {
     "name": "stdout",
     "output_type": "stream",
     "text": [
      "Mutual fund revenue accuracy : 0.80658436214\n",
      "sum MF revenue: 387\n",
      "List of (Client id, revenue forecasted) tuples: [(30, 6), (196, 73), (506, 6), (583, 9), (766, 54), (785, 1), (940, 18), (1007, 54), (1008, 1), (1119, 73), (1226, 9), (1416, 6), (1435, 9), (1508, 34), (1516, 34)]\n"
     ]
    }
   ],
   "source": [
    "feature_cols=[ 'Count_CA', 'Count_SA', 'Count_MF', 'Count_OVD', 'Count_CC',\n",
    "       'Count_CL', 'ActBal_CA', 'ActBal_SA', 'ActBal_MF', 'ActBal_OVD',\n",
    "       'ActBal_CC', 'ActBal_CL', 'Age', 'Tenure', 'VolumeCred',\n",
    "       'VolumeCred_CA', 'TransactionsCred', 'TransactionsCred_CA', 'VolumeDeb',\n",
    "       'VolumeDeb_CA', 'VolumeDebCash_Card', 'VolumeDebCashless_Card',\n",
    "       'VolumeDeb_PaymentOrder', 'TransactionsDeb', 'TransactionsDeb_CA',\n",
    "       'TransactionsDebCash_Card', 'TransactionsDebCashless_Card',\n",
    "       'TransactionsDeb_PaymentOrder', 'Revenue_CC','Revenue_CL']\n",
    "X = data[feature_cols]\n",
    "# select a Series from the DataFrame\n",
    "data.fillna(0,inplace=True)\n",
    "y=(trainingset.Revenue_MF.fillna(0)).apply(np.int64)\n",
    "# split into training and testing sets\n",
    "X_train, X_test, y_train, y_test = train_test_split(X, y, random_state=1)\n",
    "\n",
    "# fit the model to the training data (learn the coefficients)\n",
    "clf.fit(X_train, y_train)\n",
    "\n",
    "X_predict=MF_target[feature_cols].fillna(0)\n",
    "y_predict = clf.predict(X_predict)\n",
    "\n",
    "accuracy=clf.score(X_test,y_test)\n",
    "print('Mutual fund revenue accuracy :', accuracy)\n",
    "#print('number of customer with mutual fund revenue', sum(y!=0))\n",
    "#predicted customer revenue\n",
    "\n",
    "MF_revenue=list(MF_target[y_predict!=0].Client)\n",
    "#print('Total expected revenue from predicted credit card customers:',sum(y_predict))\n",
    "#print('targeted customers :', MF_revenue)\n",
    "MF_client_pred = y_predict[y_predict!=0]\n",
    "MF_zip=list(zip(MF_revenue,MF_client_pred))\n",
    "\n",
    "#print('customer and their targeted revenue:',sorted(MF_zip,key=lambda x: x[1],reverse=True))\n",
    "\n",
    "\n",
    "targeted_MF_client =[]\n",
    "for client in MF_revenue:\n",
    "    if client in list (MF):\n",
    "        targeted_MF_client.append(client)\n",
    "# only those customer who are targeted for MF sale\n",
    "targeted_MF_client  \n",
    "\n",
    "# Create another list of those who are suppose to be in the predicted set of target MF customers\n",
    "sum_MF_revenue =0\n",
    "sale_MF_revenue_list =[]\n",
    "for client in list(MF_revenue):\n",
    "    if client in list(MF):\n",
    "        sale_MF_revenue_list.append((client,MF_client_pred[MF_revenue.index(client)]))\n",
    "        sum_MF_revenue = sum_MF_revenue + MF_client_pred[MF_revenue.index(client)]\n",
    "        #print(sum_MF_revenue,MF_client_pred[MF_revenue.index(client)])\n",
    "\n",
    "print('sum of revenue MF:', sum_MF_revenue)\n",
    "print('List of (Client id, revenue forecasted) tuples:', sale_MF_revenue_list)"
   ]
  },
  {
   "cell_type": "markdown",
   "metadata": {},
   "source": [
    "## Revenues forcasting for Consumer Loan"
   ]
  },
  {
   "cell_type": "code",
   "execution_count": 569,
   "metadata": {
    "collapsed": false
   },
   "outputs": [
    {
     "name": "stdout",
     "output_type": "stream",
     "text": [
      "Consumer Loan revenue accuracy : 0.641975308642\n",
      "Revenue CL  249\n",
      "List of (Client id, revenue forecasted) tuples: [(153, 19), (161, 6), (217, 20), (314, 17), (496, 30), (532, 4), (543, 27), (1051, 22), (1077, 22), (1218, 31), (1289, 1), (1443, 20), (1455, 30)]\n"
     ]
    }
   ],
   "source": [
    "feature_cols=[ 'Count_CA', 'Count_SA', 'Count_MF', 'Count_OVD', 'Count_CC',\n",
    "       'Count_CL', 'ActBal_CA', 'ActBal_SA', 'ActBal_MF', 'ActBal_OVD',\n",
    "       'ActBal_CC', 'ActBal_CL', 'Age', 'Tenure', 'VolumeCred',\n",
    "       'VolumeCred_CA', 'TransactionsCred', 'TransactionsCred_CA', 'VolumeDeb',\n",
    "       'VolumeDeb_CA', 'VolumeDebCash_Card', 'VolumeDebCashless_Card',\n",
    "       'VolumeDeb_PaymentOrder', 'TransactionsDeb', 'TransactionsDeb_CA',\n",
    "       'TransactionsDebCash_Card', 'TransactionsDebCashless_Card',\n",
    "       'TransactionsDeb_PaymentOrder', 'Revenue_MF','Revenue_CC']\n",
    "X = data[feature_cols]\n",
    "# select a Series from the DataFrame\n",
    "data.fillna(0,inplace=True)\n",
    "y=(trainingset.Revenue_CL.fillna(0)).apply(np.int64)\n",
    "# split into training and testing sets\n",
    "X_train, X_test, y_train, y_test = train_test_split(X, y, random_state=1)\n",
    "\n",
    "# fit the model to the training data (learn the coefficients)\n",
    "clf.fit(X_train, y_train)\n",
    "# make predictions on the testing set\n",
    "#y_pred = clf.predict(X_test)\n",
    "\n",
    "accuracy=clf.score(X_test,y_test)\n",
    "print('Consumer Loan revenue accuracy :', accuracy)\n",
    "#print('number of customer with revenue', sum(y!=0))\n",
    "#predicted customer revenue\n",
    "X_predict=CL_target[feature_cols].fillna(0)\n",
    "y_predict = clf.predict(X_predict)\n",
    "\n",
    "CL_revenue=list(CL_target[y_predict!=0].Client)\n",
    "#print('Total expected revenue from predicted credit card customers:',sum(y_predict))\n",
    "#print('targeted customers :', CL_revenue)\n",
    "CL_client_pred = y_predict[y_predict!=0]\n",
    "CL_zip=list(zip(CL_revenue,CL_client_pred))\n",
    "\n",
    "#print('customer and their targeted revenue(sorted in descending order of revenue):',sorted(CL_zip,key=lambda x: x[1],reverse=True))\n",
    "\n",
    "targeted_CL_client =[]\n",
    "for client in CL_revenue:\n",
    "    if client in list (CL):\n",
    "        targeted_CL_client.append(client)\n",
    "# only those customer who are targeted for MF sale\n",
    "targeted_CL_client  \n",
    "\n",
    "# Create another list of those who are suppose to be in the predicted set of target CL customers\n",
    "sale_CL_revenue_list =[]\n",
    "sum_CL_revenue = 0\n",
    "for client in list(CL_revenue):\n",
    "    if client in list(CL):\n",
    "        sale_CL_revenue_list.append((client,CL_client_pred[CL_revenue.index(client)]))\n",
    "        sum_CL_revenue = sum_CL_revenue + CL_client_pred[CL_revenue.index(client)]\n",
    "\n",
    "\n",
    "\n",
    "print (\"Sum of Revenue CL \", sum_CL_revenue)\n",
    "print ('List of (Client id, revenue forecasted) tuples:',sale_CL_revenue_list)"
   ]
  },
  {
   "cell_type": "markdown",
   "metadata": {},
   "source": [
    "### Accuracy is too low in this case. \n",
    "One possibility is to reduce the feature set  by selecting only few parameters and reduce the probability of over fitting/mispredicting using recursive feature elimination or by using principal component analysis. I skip it for now due to limited time. \n",
    "\n",
    "#### Code snippet\n",
    "$$ model = LogisticRegression()$$\n",
    "$$ rfe = RFE(model, 3)$$ \n",
    "$$ fit = rfe.fit(X, Y)$$ \n",
    "$$ print(\"Num Features: \", fit.n\\_features\\_)$$ \n",
    "$$ print(\"Selected Features: \",  fit.support\\_)$$ \n",
    "$$ print(\"Feature Ranking:\", fit.ranking\\_)$$ "
   ]
  },
  {
   "cell_type": "markdown",
   "metadata": {},
   "source": [
    "%%latex\n",
    "model = LogisticRegression()\n",
    "rfe = RFE(model, 3)\n",
    "fit = rfe.fit(X, Y)\n",
    "print(\"Num Features: %d\") % fit.nfeatures\n",
    "print(\"Selected Features: %s\") % fit.support_\n",
    "print(\"Feature Ranking: %s\") % fit.ranking_\n",
    "\n"
   ]
  },
  {
   "cell_type": "markdown",
   "metadata": {},
   "source": [
    "## Forecasting the Expected Revenue\n",
    "Creating a list of clinets who according the model developed highly likely to be ineterested in buying the bank products ; credit cards, loans and the mutual funds. There are few customers who would be interested in all the three products. By summing the revenues generated per client based  on the products the revenue sum is generated. \n",
    "\n",
    "### Which clients are to be targeted with which offer?\n",
    "\n",
    "The table of probable customers contains three columns which indicates their respective interest in buying credit card, mutual fund and consumer loan and the projected revenues. "
   ]
  },
  {
   "cell_type": "code",
   "execution_count": 570,
   "metadata": {
    "collapsed": false
   },
   "outputs": [
    {
     "name": "stdout",
     "output_type": "stream",
     "text": [
      "Individual target revenue :\n",
      "\n"
     ]
    },
    {
     "data": {
      "text/html": [
       "<div>\n",
       "<style>\n",
       "    .dataframe thead tr:only-child th {\n",
       "        text-align: right;\n",
       "    }\n",
       "\n",
       "    .dataframe thead th {\n",
       "        text-align: left;\n",
       "    }\n",
       "\n",
       "    .dataframe tbody tr th {\n",
       "        vertical-align: top;\n",
       "    }\n",
       "</style>\n",
       "<table border=\"1\" class=\"dataframe\">\n",
       "  <thead>\n",
       "    <tr style=\"text-align: right;\">\n",
       "      <th></th>\n",
       "      <th>Revenue_CC</th>\n",
       "      <th>Revenue_CL</th>\n",
       "      <th>Revenue_MF</th>\n",
       "      <th>Sum_Revenues</th>\n",
       "    </tr>\n",
       "  </thead>\n",
       "  <tbody>\n",
       "    <tr>\n",
       "      <th>196</th>\n",
       "      <td>0</td>\n",
       "      <td>0</td>\n",
       "      <td>73</td>\n",
       "      <td>73</td>\n",
       "    </tr>\n",
       "    <tr>\n",
       "      <th>1119</th>\n",
       "      <td>0</td>\n",
       "      <td>0</td>\n",
       "      <td>73</td>\n",
       "      <td>73</td>\n",
       "    </tr>\n",
       "    <tr>\n",
       "      <th>1455</th>\n",
       "      <td>25</td>\n",
       "      <td>30</td>\n",
       "      <td>0</td>\n",
       "      <td>55</td>\n",
       "    </tr>\n",
       "    <tr>\n",
       "      <th>1007</th>\n",
       "      <td>0</td>\n",
       "      <td>0</td>\n",
       "      <td>54</td>\n",
       "      <td>54</td>\n",
       "    </tr>\n",
       "    <tr>\n",
       "      <th>766</th>\n",
       "      <td>0</td>\n",
       "      <td>0</td>\n",
       "      <td>54</td>\n",
       "      <td>54</td>\n",
       "    </tr>\n",
       "    <tr>\n",
       "      <th>19</th>\n",
       "      <td>42</td>\n",
       "      <td>0</td>\n",
       "      <td>0</td>\n",
       "      <td>42</td>\n",
       "    </tr>\n",
       "    <tr>\n",
       "      <th>352</th>\n",
       "      <td>42</td>\n",
       "      <td>0</td>\n",
       "      <td>0</td>\n",
       "      <td>42</td>\n",
       "    </tr>\n",
       "    <tr>\n",
       "      <th>1516</th>\n",
       "      <td>0</td>\n",
       "      <td>0</td>\n",
       "      <td>34</td>\n",
       "      <td>34</td>\n",
       "    </tr>\n",
       "    <tr>\n",
       "      <th>1508</th>\n",
       "      <td>0</td>\n",
       "      <td>0</td>\n",
       "      <td>34</td>\n",
       "      <td>34</td>\n",
       "    </tr>\n",
       "    <tr>\n",
       "      <th>153</th>\n",
       "      <td>14</td>\n",
       "      <td>19</td>\n",
       "      <td>0</td>\n",
       "      <td>33</td>\n",
       "    </tr>\n",
       "    <tr>\n",
       "      <th>1218</th>\n",
       "      <td>0</td>\n",
       "      <td>31</td>\n",
       "      <td>0</td>\n",
       "      <td>31</td>\n",
       "    </tr>\n",
       "    <tr>\n",
       "      <th>1077</th>\n",
       "      <td>8</td>\n",
       "      <td>22</td>\n",
       "      <td>0</td>\n",
       "      <td>30</td>\n",
       "    </tr>\n",
       "    <tr>\n",
       "      <th>496</th>\n",
       "      <td>0</td>\n",
       "      <td>30</td>\n",
       "      <td>0</td>\n",
       "      <td>30</td>\n",
       "    </tr>\n",
       "    <tr>\n",
       "      <th>543</th>\n",
       "      <td>0</td>\n",
       "      <td>27</td>\n",
       "      <td>0</td>\n",
       "      <td>27</td>\n",
       "    </tr>\n",
       "    <tr>\n",
       "      <th>1051</th>\n",
       "      <td>0</td>\n",
       "      <td>22</td>\n",
       "      <td>0</td>\n",
       "      <td>22</td>\n",
       "    </tr>\n",
       "    <tr>\n",
       "      <th>217</th>\n",
       "      <td>0</td>\n",
       "      <td>20</td>\n",
       "      <td>0</td>\n",
       "      <td>20</td>\n",
       "    </tr>\n",
       "    <tr>\n",
       "      <th>1443</th>\n",
       "      <td>0</td>\n",
       "      <td>20</td>\n",
       "      <td>0</td>\n",
       "      <td>20</td>\n",
       "    </tr>\n",
       "    <tr>\n",
       "      <th>1414</th>\n",
       "      <td>18</td>\n",
       "      <td>0</td>\n",
       "      <td>0</td>\n",
       "      <td>18</td>\n",
       "    </tr>\n",
       "    <tr>\n",
       "      <th>940</th>\n",
       "      <td>0</td>\n",
       "      <td>0</td>\n",
       "      <td>18</td>\n",
       "      <td>18</td>\n",
       "    </tr>\n",
       "    <tr>\n",
       "      <th>314</th>\n",
       "      <td>0</td>\n",
       "      <td>17</td>\n",
       "      <td>0</td>\n",
       "      <td>17</td>\n",
       "    </tr>\n",
       "    <tr>\n",
       "      <th>382</th>\n",
       "      <td>15</td>\n",
       "      <td>0</td>\n",
       "      <td>0</td>\n",
       "      <td>15</td>\n",
       "    </tr>\n",
       "    <tr>\n",
       "      <th>1349</th>\n",
       "      <td>15</td>\n",
       "      <td>0</td>\n",
       "      <td>0</td>\n",
       "      <td>15</td>\n",
       "    </tr>\n",
       "    <tr>\n",
       "      <th>1076</th>\n",
       "      <td>15</td>\n",
       "      <td>0</td>\n",
       "      <td>0</td>\n",
       "      <td>15</td>\n",
       "    </tr>\n",
       "    <tr>\n",
       "      <th>587</th>\n",
       "      <td>15</td>\n",
       "      <td>0</td>\n",
       "      <td>0</td>\n",
       "      <td>15</td>\n",
       "    </tr>\n",
       "    <tr>\n",
       "      <th>535</th>\n",
       "      <td>15</td>\n",
       "      <td>0</td>\n",
       "      <td>0</td>\n",
       "      <td>15</td>\n",
       "    </tr>\n",
       "    <tr>\n",
       "      <th>373</th>\n",
       "      <td>15</td>\n",
       "      <td>0</td>\n",
       "      <td>0</td>\n",
       "      <td>15</td>\n",
       "    </tr>\n",
       "    <tr>\n",
       "      <th>359</th>\n",
       "      <td>14</td>\n",
       "      <td>0</td>\n",
       "      <td>0</td>\n",
       "      <td>14</td>\n",
       "    </tr>\n",
       "    <tr>\n",
       "      <th>1289</th>\n",
       "      <td>13</td>\n",
       "      <td>1</td>\n",
       "      <td>0</td>\n",
       "      <td>14</td>\n",
       "    </tr>\n",
       "    <tr>\n",
       "      <th>532</th>\n",
       "      <td>7</td>\n",
       "      <td>4</td>\n",
       "      <td>0</td>\n",
       "      <td>11</td>\n",
       "    </tr>\n",
       "    <tr>\n",
       "      <th>1226</th>\n",
       "      <td>0</td>\n",
       "      <td>0</td>\n",
       "      <td>9</td>\n",
       "      <td>9</td>\n",
       "    </tr>\n",
       "    <tr>\n",
       "      <th>1435</th>\n",
       "      <td>0</td>\n",
       "      <td>0</td>\n",
       "      <td>9</td>\n",
       "      <td>9</td>\n",
       "    </tr>\n",
       "    <tr>\n",
       "      <th>583</th>\n",
       "      <td>0</td>\n",
       "      <td>0</td>\n",
       "      <td>9</td>\n",
       "      <td>9</td>\n",
       "    </tr>\n",
       "    <tr>\n",
       "      <th>161</th>\n",
       "      <td>2</td>\n",
       "      <td>6</td>\n",
       "      <td>0</td>\n",
       "      <td>8</td>\n",
       "    </tr>\n",
       "    <tr>\n",
       "      <th>1416</th>\n",
       "      <td>0</td>\n",
       "      <td>0</td>\n",
       "      <td>6</td>\n",
       "      <td>6</td>\n",
       "    </tr>\n",
       "    <tr>\n",
       "      <th>30</th>\n",
       "      <td>0</td>\n",
       "      <td>0</td>\n",
       "      <td>6</td>\n",
       "      <td>6</td>\n",
       "    </tr>\n",
       "    <tr>\n",
       "      <th>506</th>\n",
       "      <td>0</td>\n",
       "      <td>0</td>\n",
       "      <td>6</td>\n",
       "      <td>6</td>\n",
       "    </tr>\n",
       "    <tr>\n",
       "      <th>851</th>\n",
       "      <td>6</td>\n",
       "      <td>0</td>\n",
       "      <td>0</td>\n",
       "      <td>6</td>\n",
       "    </tr>\n",
       "    <tr>\n",
       "      <th>951</th>\n",
       "      <td>5</td>\n",
       "      <td>0</td>\n",
       "      <td>0</td>\n",
       "      <td>5</td>\n",
       "    </tr>\n",
       "    <tr>\n",
       "      <th>1410</th>\n",
       "      <td>4</td>\n",
       "      <td>0</td>\n",
       "      <td>0</td>\n",
       "      <td>4</td>\n",
       "    </tr>\n",
       "    <tr>\n",
       "      <th>633</th>\n",
       "      <td>3</td>\n",
       "      <td>0</td>\n",
       "      <td>0</td>\n",
       "      <td>3</td>\n",
       "    </tr>\n",
       "    <tr>\n",
       "      <th>886</th>\n",
       "      <td>1</td>\n",
       "      <td>0</td>\n",
       "      <td>0</td>\n",
       "      <td>1</td>\n",
       "    </tr>\n",
       "    <tr>\n",
       "      <th>785</th>\n",
       "      <td>0</td>\n",
       "      <td>0</td>\n",
       "      <td>1</td>\n",
       "      <td>1</td>\n",
       "    </tr>\n",
       "    <tr>\n",
       "      <th>1008</th>\n",
       "      <td>0</td>\n",
       "      <td>0</td>\n",
       "      <td>1</td>\n",
       "      <td>1</td>\n",
       "    </tr>\n",
       "  </tbody>\n",
       "</table>\n",
       "</div>"
      ],
      "text/plain": [
       "      Revenue_CC  Revenue_CL  Revenue_MF  Sum_Revenues\n",
       "196            0           0          73            73\n",
       "1119           0           0          73            73\n",
       "1455          25          30           0            55\n",
       "1007           0           0          54            54\n",
       "766            0           0          54            54\n",
       "19            42           0           0            42\n",
       "352           42           0           0            42\n",
       "1516           0           0          34            34\n",
       "1508           0           0          34            34\n",
       "153           14          19           0            33\n",
       "1218           0          31           0            31\n",
       "1077           8          22           0            30\n",
       "496            0          30           0            30\n",
       "543            0          27           0            27\n",
       "1051           0          22           0            22\n",
       "217            0          20           0            20\n",
       "1443           0          20           0            20\n",
       "1414          18           0           0            18\n",
       "940            0           0          18            18\n",
       "314            0          17           0            17\n",
       "382           15           0           0            15\n",
       "1349          15           0           0            15\n",
       "1076          15           0           0            15\n",
       "587           15           0           0            15\n",
       "535           15           0           0            15\n",
       "373           15           0           0            15\n",
       "359           14           0           0            14\n",
       "1289          13           1           0            14\n",
       "532            7           4           0            11\n",
       "1226           0           0           9             9\n",
       "1435           0           0           9             9\n",
       "583            0           0           9             9\n",
       "161            2           6           0             8\n",
       "1416           0           0           6             6\n",
       "30             0           0           6             6\n",
       "506            0           0           6             6\n",
       "851            6           0           0             6\n",
       "951            5           0           0             5\n",
       "1410           4           0           0             4\n",
       "633            3           0           0             3\n",
       "886            1           0           0             1\n",
       "785            0           0           1             1\n",
       "1008           0           0           1             1"
      ]
     },
     "execution_count": 570,
     "metadata": {},
     "output_type": "execute_result"
    }
   ],
   "source": [
    "data=page2plus345\n",
    "columns = ['Client', 'Revenue_CC', 'Revenue_CL','Revenue_MF','Sum_Revenues']\n",
    "index = list(range(1,len(data.Client)))\n",
    "\n",
    "Revenue_forcast = pd.DataFrame(columns=columns,index=index)\n",
    "Revenue_forcast.Client= list(range(1,len(data.Client)))\n",
    "#fetching revenue from three sets cc, cl and mf\n",
    "\n",
    "Revenue_forcast.fillna(0)\n",
    "\n",
    "for client in range(1,len(data.Client)):\n",
    "    for keys, values in sale_MF_revenue_list:\n",
    "        if client == keys:\n",
    "            Revenue_forcast.set_value(client, 'Revenue_MF', values)\n",
    "    for keys, values in sale_CC_revenue_list:\n",
    "        if client == keys:\n",
    "            Revenue_forcast.set_value(client, 'Revenue_CC', values)\n",
    "    for keys, values in sale_CL_revenue_list:\n",
    "        if client == keys:\n",
    "            Revenue_forcast.set_value(client, 'Revenue_CL', values)\n",
    "\n",
    "Revenue_forcast=Revenue_forcast.fillna(0)\n",
    "Revenue_forcast.Sum_Revenues =Revenue_forcast.Revenue_CC+Revenue_forcast.Revenue_CL +Revenue_forcast.Revenue_MF\n",
    "target_call_cust=Revenue_forcast.sort_values(by='Sum_Revenues',ascending=False)\n",
    "print('Individual target revenue :\\n')\n",
    "target_call_cust.iloc[0:43,1:5]\n",
    "\n"
   ]
  },
  {
   "cell_type": "markdown",
   "metadata": {},
   "source": [
    "### What would be the expected revenue based on your strategy?\n",
    "\n",
    "A list of first 43 clients is generated which are not present in training set i.e. excel sheet (sales_revenues). The forcasted revenue by the addition of new customers in the pool is expected to be:\n",
    "\n"
   ]
  },
  {
   "cell_type": "code",
   "execution_count": 571,
   "metadata": {
    "collapsed": false
   },
   "outputs": [
    {
     "name": "stdout",
     "output_type": "stream",
     "text": [
      "Total targeted revenue:  930\n"
     ]
    }
   ],
   "source": [
    "print('Total targeted revenue: ', sum(list(target_call_cust.iloc[0:43,:].Sum_Revenues)))"
   ]
  }
 ],
 "metadata": {
  "kernelspec": {
   "display_name": "Python 3",
   "language": "python",
   "name": "python3"
  },
  "language_info": {
   "codemirror_mode": {
    "name": "ipython",
    "version": 3
   },
   "file_extension": ".py",
   "mimetype": "text/x-python",
   "name": "python",
   "nbconvert_exporter": "python",
   "pygments_lexer": "ipython3",
   "version": "3.5.2"
  }
 },
 "nbformat": 4,
 "nbformat_minor": 2
}
